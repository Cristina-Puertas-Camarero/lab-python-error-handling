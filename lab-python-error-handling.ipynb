{
 "cells": [
  {
   "cell_type": "markdown",
   "id": "25d7736c-ba17-4aff-b6bb-66eba20fbf4e",
   "metadata": {},
   "source": [
    "# Lab | Error Handling"
   ]
  },
  {
   "cell_type": "markdown",
   "id": "bc99b386-7508-47a0-bcdb-d969deaf6c8b",
   "metadata": {},
   "source": [
    "## Exercise: Error Handling for Managing Customer Orders\n",
    "\n",
    "The implementation of your code for managing customer orders assumes that the user will always enter a valid input. \n",
    "\n",
    "For example, we could modify the `initialize_inventory` function to include error handling.\n",
    "   - If the user enters an invalid quantity (e.g., a negative value or a non-numeric value), display an error message and ask them to re-enter the quantity for that product.\n",
    "   - Use a try-except block to handle the error and continue prompting the user until a valid quantity is entered.\n",
    "\n",
    "```python\n",
    "# Step 1: Define the function for initializing the inventory with error handling\n",
    "def initialize_inventory(products):\n",
    "    inventory = {}\n",
    "    for product in products:\n",
    "        valid_quantity = False\n",
    "        while not valid_quantity:\n",
    "            try:\n",
    "                quantity = int(input(f\"Enter the quantity of {product}s available: \"))\n",
    "                if quantity < 0:\n",
    "                    raise ValueError(\"Invalid quantity! Please enter a non-negative value.\")\n",
    "                valid_quantity = True\n",
    "            except ValueError as error:\n",
    "                print(f\"Error: {error}\")\n",
    "        inventory[product] = quantity\n",
    "    return inventory\n",
    "\n",
    "# Or, in another way:\n",
    "\n",
    "def initialize_inventory(products):\n",
    "    inventory = {}\n",
    "    for product in products:\n",
    "        valid_input = False\n",
    "        while not valid_input:\n",
    "            try:\n",
    "                quantity = int(input(f\"Enter the quantity of {product}s available: \"))\n",
    "                if quantity >= 0:\n",
    "                    inventory[product] = quantity\n",
    "                    valid_input = True\n",
    "                else:\n",
    "                    print(\"Quantity cannot be negative. Please enter a valid quantity.\")\n",
    "            except ValueError:\n",
    "                print(\"Invalid input. Please enter a valid quantity.\")\n",
    "    return inventory\n",
    "```\n",
    "\n",
    "Let's enhance your code by implementing error handling to handle invalid inputs.\n",
    "\n",
    "Follow the steps below to complete the exercise:\n",
    "\n",
    "2. Modify the `calculate_total_price` function to include error handling.\n",
    "   - If the user enters an invalid price (e.g., a negative value or a non-numeric value), display an error message and ask them to re-enter the price for that product.\n",
    "   - Use a try-except block to handle the error and continue prompting the user until a valid price is entered.\n",
    "\n",
    "3. Modify the `get_customer_orders` function to include error handling.\n",
    "   - If the user enters an invalid number of orders (e.g., a negative value or a non-numeric value), display an error message and ask them to re-enter the number of orders.\n",
    "   - If the user enters an invalid product name (e.g., a product name that is not in the inventory), or that doesn't have stock available, display an error message and ask them to re-enter the product name. *Hint: you will need to pass inventory as a parameter*\n",
    "   - Use a try-except block to handle the error and continue prompting the user until a valid product name is entered.\n",
    "\n",
    "4. Test your code by running the program and deliberately entering invalid quantities and product names. Make sure the error handling mechanism works as expected.\n"
   ]
  },
  {
   "cell_type": "code",
   "execution_count": 33,
   "id": "74883f36",
   "metadata": {},
   "outputs": [],
   "source": [
    "products = (\"t-shirt\", \"mug\", \"hat\", \"book\", \"keychain\")\n",
    "inventory = {}\n"
   ]
  },
  {
   "cell_type": "code",
   "execution_count": 34,
   "id": "5736d10f",
   "metadata": {},
   "outputs": [],
   "source": [
    "for product in products:\n",
    "    while True:\n",
    "        try:\n",
    "            quantity = int(input(f\"cuántos {product}s hay?: \"))\n",
    "            if quantity < 0:\n",
    "                print(\"La cantidad no puede ser 0 o menos. Ingrese una cantidad válida.\")\n",
    "            else:\n",
    "                inventory[product] = quantity\n",
    "                break\n",
    "        except ValueError:\n",
    "            print(\"entrada no válida, ingresa un numero entero positivo\")"
   ]
  },
  {
   "cell_type": "code",
   "execution_count": 35,
   "id": "fe1bae66",
   "metadata": {},
   "outputs": [],
   "source": [
    "customer_orders = set()"
   ]
  },
  {
   "cell_type": "code",
   "execution_count": 36,
   "id": "65689045",
   "metadata": {},
   "outputs": [],
   "source": [
    "def get_customer_orders():\n",
    "    orders = set()\n",
    "    while True:\n",
    "        try:\n",
    "            num_orders = int(input(\"número de pedidos: \"))\n",
    "            if num_orders < 0:\n",
    "                raise ValueError(\"número de pedidos no puede ser negativo.\")\n",
    "            for _ in range(num_orders):\n",
    "                product = input(\"nombre del producto: \")\n",
    "                if product not in inventory:\n",
    "                    raise ValueError(f\" el '{product}' no está en el inventario.\")\n",
    "                if inventory[product] == 0:\n",
    "                    raise ValueError(f\"no quedan {product}s.\")\n",
    "                orders.add(product)\n",
    "            break\n",
    "        except ValueError as error:\n",
    "            print(f\"Error: {error}. intentalo de nuevo.\")\n",
    "    return orders"
   ]
  },
  {
   "cell_type": "code",
   "execution_count": 37,
   "id": "19a96d64",
   "metadata": {},
   "outputs": [],
   "source": [
    "def precio_total_pedido_del_cliente(customer_orders):\n",
    "    total_price = 0\n",
    "    for product in customer_orders:\n",
    "        while True:\n",
    "            try:\n",
    "                price = float(input(f\"introduce el precio de {product}: \"))\n",
    "                if price < 0:\n",
    "                    raise ValueError(\"el precio no puede ser menor que 0.\")\n",
    "                total_price += price\n",
    "                break\n",
    "            except ValueError as error:\n",
    "                print(f\"Error: {error} ingrese un precio válido.\")\n",
    "    return total_price"
   ]
  },
  {
   "cell_type": "code",
   "execution_count": 38,
   "id": "c360c6a8",
   "metadata": {},
   "outputs": [],
   "source": [
    "def update_inventory(customer_orders, inventory):\n",
    "    for product in customer_orders:\n",
    "        inventory[product] -= 1\n",
    "        if inventory[product] <= 0:\n",
    "            print(f\"No quedan {product}s.\")\n",
    "    print(\"Inventario actualizado:\", inventory)"
   ]
  },
  {
   "cell_type": "code",
   "execution_count": 39,
   "id": "e336501b",
   "metadata": {},
   "outputs": [],
   "source": [
    "def print_order_statistics(customer_orders, total_products):\n",
    "    print(f\"Estadísticas del Pedido:\\nTotal de Productos Pedidos: {len(customer_orders)}\\nPorcentaje de Productos Pedidos: {(len(customer_orders) / total_products) * 100:.2f}%\")"
   ]
  },
  {
   "cell_type": "code",
   "execution_count": 40,
   "id": "38f14629",
   "metadata": {},
   "outputs": [],
   "source": [
    "while True:\n",
    "    product = input(\"¿qué producto quieres?: \")\n",
    "    if product in products:\n",
    "        customer_orders.add(product)\n",
    "    else:\n",
    "        print(\"Producto inválido.\")\n",
    "    if input(\"¿quieres seguir comprando? (si/no): \") != 'si':\n",
    "        break\n"
   ]
  },
  {
   "cell_type": "code",
   "execution_count": 42,
   "id": "c1ddb966",
   "metadata": {},
   "outputs": [
    {
     "name": "stdout",
     "output_type": "stream",
     "text": [
      "Inventario actualizado: {'t-shirt': 4, 'mug': 1, 'hat': 2, 'book': 1, 'keychain': 4}\n",
      "Estadísticas del Pedido:\n",
      "Total de Productos Pedidos: 3\n",
      "Porcentaje de Productos Pedidos: 60.00%\n",
      "Precio total del pedido: 33.0\n"
     ]
    }
   ],
   "source": [
    "update_inventory(customer_orders, inventory)\n",
    "print_order_statistics(customer_orders, len(products))\n",
    "total_precio = precio_total_pedido_del_cliente(customer_orders)\n",
    "print(\"Precio total del pedido:\", total_precio)"
   ]
  }
 ],
 "metadata": {
  "kernelspec": {
   "display_name": "base",
   "language": "python",
   "name": "python3"
  },
  "language_info": {
   "codemirror_mode": {
    "name": "ipython",
    "version": 3
   },
   "file_extension": ".py",
   "mimetype": "text/x-python",
   "name": "python",
   "nbconvert_exporter": "python",
   "pygments_lexer": "ipython3",
   "version": "3.12.7"
  }
 },
 "nbformat": 4,
 "nbformat_minor": 5
}
